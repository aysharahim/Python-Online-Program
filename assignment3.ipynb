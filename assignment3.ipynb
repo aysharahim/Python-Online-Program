{
 "cells": [
  {
   "cell_type": "code",
   "execution_count": 1,
   "id": "0afb789b",
   "metadata": {},
   "outputs": [
    {
     "name": "stdout",
     "output_type": "stream",
     "text": [
      "A+\n"
     ]
    }
   ],
   "source": [
    "#Python Program for generating marksheet for different subjects\n",
    "eng= 75;\n",
    "maths=88;\n",
    "urdu=72;\n",
    "isl=90;\n",
    "sci=79;\n",
    "total=500\n",
    "percent=(eng+maths+urdu+isl+sci)/total*100\n",
    "if percent < 100 and percent >= 80:\n",
    "    print(\"A+\");\n",
    "elif percent < 80 and percent >=70:\n",
    "    print(\"A\");\n",
    "elif percent < 70 and percent >= 60:\n",
    "    print(\"B\");\n",
    "elif percent < 60 and percent >= 50:\n",
    "    print(\"C\");\n",
    "elif percent < 50 and percent >=40:\n",
    "    print(\"D\");\n",
    "else:\n",
    "    print(\"Fail\")"
   ]
  },
  {
   "cell_type": "code",
   "execution_count": 3,
   "id": "0cb45806",
   "metadata": {},
   "outputs": [
    {
     "name": "stdout",
     "output_type": "stream",
     "text": [
      "Enter the radius of a circle4\n"
     ]
    },
    {
     "ename": "TypeError",
     "evalue": "can't multiply sequence by non-int of type 'float'",
     "output_type": "error",
     "traceback": [
      "\u001b[1;31m---------------------------------------------------------------------------\u001b[0m",
      "\u001b[1;31mTypeError\u001b[0m                                 Traceback (most recent call last)",
      "\u001b[1;32m<ipython-input-3-13df07bf99c7>\u001b[0m in \u001b[0;36m<module>\u001b[1;34m\u001b[0m\n\u001b[0;32m      2\u001b[0m \u001b[0mPI\u001b[0m\u001b[1;33m=\u001b[0m \u001b[1;36m3.14\u001b[0m\u001b[1;33m;\u001b[0m\u001b[1;33m\u001b[0m\u001b[1;33m\u001b[0m\u001b[0m\n\u001b[0;32m      3\u001b[0m \u001b[0mradius\u001b[0m\u001b[1;33m=\u001b[0m \u001b[0minput\u001b[0m\u001b[1;33m(\u001b[0m\u001b[1;34m\"Enter the radius of a circle\"\u001b[0m\u001b[1;33m)\u001b[0m\u001b[1;33m;\u001b[0m\u001b[1;33m\u001b[0m\u001b[1;33m\u001b[0m\u001b[0m\n\u001b[1;32m----> 4\u001b[1;33m \u001b[0marea\u001b[0m\u001b[1;33m=\u001b[0m \u001b[0mPI\u001b[0m\u001b[1;33m*\u001b[0m\u001b[0mradius\u001b[0m\u001b[1;33m*\u001b[0m\u001b[0mradius\u001b[0m\u001b[1;33m;\u001b[0m\u001b[1;33m\u001b[0m\u001b[1;33m\u001b[0m\u001b[0m\n\u001b[0m\u001b[0;32m      5\u001b[0m \u001b[0mprint\u001b[0m\u001b[1;33m(\u001b[0m\u001b[1;34m\"area\"\u001b[0m\u001b[1;33m)\u001b[0m\u001b[1;33m\u001b[0m\u001b[1;33m\u001b[0m\u001b[0m\n",
      "\u001b[1;31mTypeError\u001b[0m: can't multiply sequence by non-int of type 'float'"
     ]
    }
   ],
   "source": [
    "#Python Program for finding area of the circle\n",
    "PI= 3.14;\n",
    "radius= input(\"Enter the radius of a circle\");\n",
    "area= PI*radius*radius;\n",
    "print(\"area\")"
   ]
  },
  {
   "cell_type": "code",
   "execution_count": 9,
   "id": "cd1acb71",
   "metadata": {},
   "outputs": [
    {
     "name": "stdout",
     "output_type": "stream",
     "text": [
      "Enter the radius of a circle:7\n",
      "area of circle = 153.86\n"
     ]
    }
   ],
   "source": [
    "#Python Program for finding area of the circle\n",
    "PI= 3.14;\n",
    "r= float(input(\"Enter the radius of a circle:\" ))\n",
    "area= PI*r*r\n",
    "print(\"area of circle = %.2f\" %area)"
   ]
  },
  {
   "cell_type": "code",
   "execution_count": 13,
   "id": "94457c6c",
   "metadata": {},
   "outputs": [
    {
     "name": "stdout",
     "output_type": "stream",
     "text": [
      "2021-10-24 14:39:39.572352\n"
     ]
    }
   ],
   "source": [
    "#Python program for current date and time\n",
    "import datetime\n",
    "print(datetime.datetime.now())"
   ]
  },
  {
   "cell_type": "code",
   "execution_count": 17,
   "id": "b13f54c7",
   "metadata": {},
   "outputs": [
    {
     "name": "stdout",
     "output_type": "stream",
     "text": [
      "enter first number:53\n",
      "enter second number:67\n",
      "c 120\n"
     ]
    }
   ],
   "source": [
    "#python program for two input and print them addition\n",
    "a= int(input(\"enter first number:\"))\n",
    "b=int(input(\"enter second number:\"))\n",
    "c= a+b\n",
    "print(\"c\",c);"
   ]
  },
  {
   "cell_type": "code",
   "execution_count": 18,
   "id": "e5c115dd",
   "metadata": {},
   "outputs": [
    {
     "name": "stdout",
     "output_type": "stream",
     "text": [
      "Number of items in the list= 6\n"
     ]
    }
   ],
   "source": [
    "#python program for the length of the list\n",
    "list= [\"mars\",\"venus\",\"earth\",\"jupiter\",\"uranus\",\"saturn\"];\n",
    "print(\"Number of items in the list=\", len(list))"
   ]
  },
  {
   "cell_type": "code",
   "execution_count": 19,
   "id": "1e61e63e",
   "metadata": {},
   "outputs": [
    {
     "name": "stdout",
     "output_type": "stream",
     "text": [
      "sum of all elements in given list: 500\n"
     ]
    }
   ],
   "source": [
    "#python program for sum of all numeric list\n",
    "list= [32,4,67,18,19];\n",
    "print(\"sum of all elements in given list:\", total)"
   ]
  },
  {
   "cell_type": "code",
   "execution_count": 20,
   "id": "84aef4bc",
   "metadata": {},
   "outputs": [
    {
     "name": "stdout",
     "output_type": "stream",
     "text": [
      "largest element of the list is: 67\n"
     ]
    }
   ],
   "source": [
    "list= [32,4,67,18,19];\n",
    "print(\"largest element of the list is:\", max(list))"
   ]
  },
  {
   "cell_type": "code",
   "execution_count": 21,
   "id": "a88288f2",
   "metadata": {},
   "outputs": [
    {
     "name": "stdout",
     "output_type": "stream",
     "text": [
      "1\n",
      "1\n",
      "2\n",
      "3\n"
     ]
    }
   ],
   "source": [
    "a= [1,1,2,3,5,8,13,21,34,55,89];\n",
    "for x in a:\n",
    "    if x<5:\n",
    "        print(x)"
   ]
  },
  {
   "cell_type": "code",
   "execution_count": 22,
   "id": "a8295785",
   "metadata": {},
   "outputs": [
    {
     "name": "stdout",
     "output_type": "stream",
     "text": [
      "enter a number for check even or odd:33\n",
      "33 is an odd\n"
     ]
    }
   ],
   "source": [
    "num=int(input(\"enter a number for check even or odd:\"))\n",
    "if(num%2==0):\n",
    "    print(num,\"is an even\")\n",
    "else:\n",
    "    print(num,\"is an odd\")"
   ]
  },
  {
   "cell_type": "code",
   "execution_count": null,
   "id": "06f50f40",
   "metadata": {},
   "outputs": [],
   "source": []
  }
 ],
 "metadata": {
  "kernelspec": {
   "display_name": "Python 3",
   "language": "python",
   "name": "python3"
  },
  "language_info": {
   "codemirror_mode": {
    "name": "ipython",
    "version": 3
   },
   "file_extension": ".py",
   "mimetype": "text/x-python",
   "name": "python",
   "nbconvert_exporter": "python",
   "pygments_lexer": "ipython3",
   "version": "3.8.8"
  }
 },
 "nbformat": 4,
 "nbformat_minor": 5
}
